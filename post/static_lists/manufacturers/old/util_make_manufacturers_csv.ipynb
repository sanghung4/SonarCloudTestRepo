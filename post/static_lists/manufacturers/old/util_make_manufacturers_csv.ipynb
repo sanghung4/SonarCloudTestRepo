{
 "cells": [
  {
   "cell_type": "code",
   "execution_count": null,
   "metadata": {
    "collapsed": true
   },
   "outputs": [],
   "source": [
    "%cd \"C:/repo/ocr/api\"\n",
    "import pandas as pd, numpy as np\n",
    "from utils.utils import isnan\n",
    "\n",
    "# make manufacturers.csv from a manually curated list from the PDW\n",
    "df_manf = pd.read_excel('static_lists/manufacturers/Manfs from PDW_MODIFIED.xlsx')\n",
    "\n",
    "# loop through this and make the csv, preventing any previously used abbreviation from being used again.\n",
    "# this might be sorted by number of occurrences descending at some point.\n",
    "used_abbrs = set()\n",
    "out_rows = []\n",
    "for i in df_manf.index.values:\n",
    "    manf = df_manf.at[i, 'MPFS MFR FULL NAME']\n",
    "    possible_abbrs = [df_manf.at[i, 'MPFS BRAND NAME']] + [df_manf.at[i, 'MPFS BUYLINE']] + [df_manf.at[i, 'MPFS PRICELINE']] + \\\n",
    "        ([] if isnan(df_manf.at[i, 'MANUAL_ABBRS']) else df_manf.at[i, 'MANUAL_ABBRS'].split('|'))\n",
    "    possible_abbrs = set(possible_abbrs) - used_abbrs - set([np.nan])\n",
    "    used_abbrs |= possible_abbrs\n",
    "    out_rows.append((df_manf.at[i, 'MPFS MFR FULL NAME'], '|'.join(possible_abbrs)))\n",
    "\n",
    "# export it\n",
    "df_out = pd.DataFrame(out_rows)\n",
    "df_out.to_csv('static_lists/manufacturers/manufacturers.csv', index=False, header=None)\n",
    "\n",
    "Debug = True\n"
   ]
  }
 ],
 "metadata": {
  "kernelspec": {
   "display_name": "Python 3",
   "language": "python",
   "name": "python3"
  },
  "language_info": {
   "codemirror_mode": {
    "name": "ipython",
    "version": 2
   },
   "file_extension": ".py",
   "mimetype": "text/x-python",
   "name": "python",
   "nbconvert_exporter": "python",
   "pygments_lexer": "ipython2",
   "version": "2.7.6"
  }
 },
 "nbformat": 4,
 "nbformat_minor": 0
}
